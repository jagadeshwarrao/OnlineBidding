{
 "cells": [
  {
   "cell_type": "code",
   "execution_count": 11,
   "id": "23c37108",
   "metadata": {},
   "outputs": [
    {
     "data": {
      "text/html": [
       "<table>\n",
       "<thead><tr><th scope=col>Ozone</th><th scope=col>Solar.R</th><th scope=col>Wind</th><th scope=col>Temp</th><th scope=col>Month</th><th scope=col>Day</th></tr></thead>\n",
       "<tbody>\n",
       "\t<tr><td>41  </td><td>190 </td><td> 7.4</td><td>67  </td><td>5   </td><td>1   </td></tr>\n",
       "\t<tr><td>36  </td><td>118 </td><td> 8.0</td><td>72  </td><td>5   </td><td>2   </td></tr>\n",
       "\t<tr><td>12  </td><td>149 </td><td>12.6</td><td>74  </td><td>5   </td><td>3   </td></tr>\n",
       "\t<tr><td>18  </td><td>313 </td><td>11.5</td><td>62  </td><td>5   </td><td>4   </td></tr>\n",
       "\t<tr><td>NA  </td><td> NA </td><td>14.3</td><td>56  </td><td>5   </td><td>5   </td></tr>\n",
       "\t<tr><td>28  </td><td> NA </td><td>14.9</td><td>66  </td><td>5   </td><td>6   </td></tr>\n",
       "</tbody>\n",
       "</table>\n"
      ],
      "text/latex": [
       "\\begin{tabular}{r|llllll}\n",
       " Ozone & Solar.R & Wind & Temp & Month & Day\\\\\n",
       "\\hline\n",
       "\t 41   & 190  &  7.4 & 67   & 5    & 1   \\\\\n",
       "\t 36   & 118  &  8.0 & 72   & 5    & 2   \\\\\n",
       "\t 12   & 149  & 12.6 & 74   & 5    & 3   \\\\\n",
       "\t 18   & 313  & 11.5 & 62   & 5    & 4   \\\\\n",
       "\t NA   &  NA  & 14.3 & 56   & 5    & 5   \\\\\n",
       "\t 28   &  NA  & 14.9 & 66   & 5    & 6   \\\\\n",
       "\\end{tabular}\n"
      ],
      "text/markdown": [
       "\n",
       "| Ozone | Solar.R | Wind | Temp | Month | Day |\n",
       "|---|---|---|---|---|---|\n",
       "| 41   | 190  |  7.4 | 67   | 5    | 1    |\n",
       "| 36   | 118  |  8.0 | 72   | 5    | 2    |\n",
       "| 12   | 149  | 12.6 | 74   | 5    | 3    |\n",
       "| 18   | 313  | 11.5 | 62   | 5    | 4    |\n",
       "| NA   |  NA  | 14.3 | 56   | 5    | 5    |\n",
       "| 28   |  NA  | 14.9 | 66   | 5    | 6    |\n",
       "\n"
      ],
      "text/plain": [
       "  Ozone Solar.R Wind Temp Month Day\n",
       "1 41    190      7.4 67   5     1  \n",
       "2 36    118      8.0 72   5     2  \n",
       "3 12    149     12.6 74   5     3  \n",
       "4 18    313     11.5 62   5     4  \n",
       "5 NA     NA     14.3 56   5     5  \n",
       "6 28     NA     14.9 66   5     6  "
      ]
     },
     "metadata": {},
     "output_type": "display_data"
    },
    {
     "name": "stdout",
     "output_type": "stream",
     "text": [
      "[1] \"Average Solar Radiation: 185.931506849315\"\n"
     ]
    }
   ],
   "source": [
    "#2 a\n",
    "\n",
    "# Load the airquality dataset\n",
    "data(airquality)\n",
    "\n",
    "# Display the first few rows of the dataset\n",
    "head(airquality)\n",
    "\n",
    "# Calculate average Solar Radiation\n",
    "average_solar_radiation <- mean(airquality$Solar.R, na.rm = TRUE)\n",
    "print(paste(\"Average Solar Radiation:\", average_solar_radiation))\n"
   ]
  },
  {
   "cell_type": "code",
   "execution_count": 12,
   "id": "74eafe12",
   "metadata": {},
   "outputs": [
    {
     "name": "stdout",
     "output_type": "stream",
     "text": [
      "[1] \"Sample Average Solar Radiation: 197.586206896552\"\n",
      "[1] \"Sampling Error: -11.6547000472366\"\n"
     ]
    }
   ],
   "source": [
    "#2 b\n",
    "\n",
    "# Choose a sample of Solar.R data of size 90\n",
    "set.seed(123)  # Set seed for reproducibility\n",
    "sample_data <- sample(airquality$Solar.R, 90, replace = TRUE)\n",
    "\n",
    "# Calculate the average solar radiation in the sample\n",
    "sample_average <- mean(sample_data, na.rm = TRUE)\n",
    "\n",
    "# Calculate sampling error\n",
    "sampling_error <- average_solar_radiation - sample_average\n",
    "\n",
    "print(paste(\"Sample Average Solar Radiation:\", sample_average))\n",
    "print(paste(\"Sampling Error:\", sampling_error))\n"
   ]
  },
  {
   "cell_type": "code",
   "execution_count": 13,
   "id": "f8f89726",
   "metadata": {},
   "outputs": [
    {
     "name": "stdout",
     "output_type": "stream",
     "text": [
      "[1] \"Bootstrap Estimate of Average Solar Radiation: 197.775296264301\"\n",
      "[1] \"Bootstrap Sampling Error: -11.8437894149858\"\n"
     ]
    }
   ],
   "source": [
    "#2 c\n",
    "\n",
    "# Using the sample data, estimate the average solar radiation via bootstrap method by taking 1000 resamples\n",
    "set.seed(123)  # Set seed for reproducibility\n",
    "n_resamples <- 1000\n",
    "resample_means <- numeric(n_resamples)\n",
    "\n",
    "for (i in 1:n_resamples) {\n",
    "  resample <- sample(sample_data, replace = TRUE)\n",
    "  resample_means[i] <- mean(resample, na.rm = TRUE)\n",
    "}\n",
    "\n",
    "# Calculate sampling error from bootstrap resamples\n",
    "bootstrap_sampling_error <- average_solar_radiation - mean(resample_means)\n",
    "\n",
    "print(paste(\"Bootstrap Estimate of Average Solar Radiation:\", mean(resample_means)))\n",
    "print(paste(\"Bootstrap Sampling Error:\", bootstrap_sampling_error))\n"
   ]
  },
  {
   "cell_type": "code",
   "execution_count": 20,
   "id": "c2cfb96b",
   "metadata": {},
   "outputs": [
    {
     "name": "stdout",
     "output_type": "stream",
     "text": [
      "Understanding the Need for Distribution Information: \n",
      " \n",
      "In both (b) and (c), we do not need to assume or know the distribution of the variable Solar.R. The bootstrap method is distribution free and does not rely on specific assumptions about the underlying distribution."
     ]
    }
   ],
   "source": [
    "# d\n",
    "\n",
    "cat(\"Understanding the Need for Distribution Information:\",\"\\n\",\"\\n\")\n",
    "\n",
    "\n",
    "cat(\"In both (b) and (c), we do not need to assume or know the distribution of the variable Solar.R. The bootstrap method is distribution free and does not rely on specific assumptions about the underlying distribution.\")"
   ]
  },
  {
   "cell_type": "code",
   "execution_count": 23,
   "id": "4fff657f",
   "metadata": {},
   "outputs": [
    {
     "name": "stdout",
     "output_type": "stream",
     "text": [
      "Interpretation of Sample Average and Sampling Error: \n",
      " \n",
      "Let's focus on question (b) for interpretation.\n",
      "\n",
      "Meaning/Interpretation of Sample Average: The sample average solar radiation represents the average value of solar radiation in the specific sample of 90 observations chosen from the dataset.\n",
      "\n",
      "Meaning/Interpretation of Sampling Error: The sampling error represents the difference between the population mean (average Solar Radiation) and the mean calculated from the sample. In other words, it quantifies how much our sample average might deviate from the true population average. The sampling error provides a measure of uncertainty in our sample estimate."
     ]
    }
   ],
   "source": [
    "#e\n",
    "\n",
    "cat(\"Interpretation of Sample Average and Sampling Error:\",\"\\n\",\"\\n\")\n",
    "\n",
    "cat(\"Let's focus on question (b) for interpretation.\n",
    "\n",
    "Meaning/Interpretation of Sample Average: The sample average solar radiation represents the average value of solar radiation in the specific sample of 90 observations chosen from the dataset.\n",
    "\n",
    "Meaning/Interpretation of Sampling Error: The sampling error represents the difference between the population mean (average Solar Radiation) and the mean calculated from the sample. In other words, it quantifies how much our sample average might deviate from the true population average. The sampling error provides a measure of uncertainty in our sample estimate.\")"
   ]
  },
  {
   "cell_type": "code",
   "execution_count": 24,
   "id": "587a72ea",
   "metadata": {},
   "outputs": [
    {
     "name": "stdout",
     "output_type": "stream",
     "text": [
      "(3.a): Based on this exam, are you satisfied with your overall performance? \n",
      " \n",
      "I am satisfied with my performance. At the start of this semester, I struggled with the R language. However, with good preparation, I overcame these challenges in this exam. \n",
      " \n",
      "(3.b): What is one thing you are proud of in your submission? \n",
      " \n",
      "I am proud of my ability to write in the R language without much struggle like before \n",
      " \n",
      "(3.c): What is one thing you would like to improve? \n",
      " \n",
      "I want to improve further in the R language, aiming to reach an expert level."
     ]
    }
   ],
   "source": [
    "#3\n",
    "\n",
    "cat(\"(3.a): Based on this exam, are you satisfied with your overall performance?\",\"\\n\",\"\\n\")\n",
    "cat(\"I am satisfied with my performance. At the start of this semester, I struggled with the R language. However, with good preparation, I overcame these challenges in this exam.\",\"\\n\",\"\\n\")\n",
    "\n",
    "cat(\"(3.b): What is one thing you are proud of in your submission?\",\"\\n\",\"\\n\")\n",
    "cat(\"I am proud of my ability to write in the R language without much struggle like before\",\"\\n\",\"\\n\")\n",
    "\n",
    "cat(\"(3.c): What is one thing you would like to improve?\",\"\\n\",\"\\n\")\n",
    "cat(\"I want to improve further in the R language, aiming to reach an expert level.\")"
   ]
  }
 ],
 "metadata": {
  "kernelspec": {
   "display_name": "R",
   "language": "R",
   "name": "ir"
  },
  "language_info": {
   "codemirror_mode": "r",
   "file_extension": ".r",
   "mimetype": "text/x-r-source",
   "name": "R",
   "pygments_lexer": "r",
   "version": "3.6.1"
  }
 },
 "nbformat": 4,
 "nbformat_minor": 5
}
